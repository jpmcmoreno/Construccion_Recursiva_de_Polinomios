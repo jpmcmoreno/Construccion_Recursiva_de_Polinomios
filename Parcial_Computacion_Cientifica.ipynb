{
  "nbformat": 4,
  "nbformat_minor": 0,
  "metadata": {
    "colab": {
      "name": "Parcial Computacion Cientifica.ipynb",
      "provenance": [],
      "authorship_tag": "ABX9TyO/Rxl5p1I3uP9xT08EVo10",
      "include_colab_link": true
    },
    "kernelspec": {
      "name": "python3",
      "display_name": "Python 3"
    },
    "language_info": {
      "name": "python"
    }
  },
  "cells": [
    {
      "cell_type": "markdown",
      "metadata": {
        "id": "view-in-github",
        "colab_type": "text"
      },
      "source": [
        "<a href=\"https://colab.research.google.com/github/jpmcmoreno/Construccion_Recursiva_de_Polinomios/blob/main/Parcial_Computacion_Cientifica.ipynb\" target=\"_parent\"><img src=\"https://colab.research.google.com/assets/colab-badge.svg\" alt=\"Open In Colab\"/></a>"
      ]
    },
    {
      "cell_type": "code",
      "metadata": {
        "id": "Nz7bTxLk6KCY"
      },
      "source": [
        "import matplotlib.pyplot as ptl\n",
        "import numpy as np\n",
        "import sympy as sp"
      ],
      "execution_count": 1,
      "outputs": []
    }
  ]
}