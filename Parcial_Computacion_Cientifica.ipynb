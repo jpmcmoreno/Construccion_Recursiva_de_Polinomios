{
  "nbformat": 4,
  "nbformat_minor": 0,
  "metadata": {
    "colab": {
      "name": "Parcial Computacion Cientifica.ipynb",
      "provenance": [],
      "authorship_tag": "ABX9TyNu+2bMjQedVhl4LUk4lqwm",
      "include_colab_link": true
    },
    "kernelspec": {
      "name": "python3",
      "display_name": "Python 3"
    },
    "language_info": {
      "name": "python"
    }
  },
  "cells": [
    {
      "cell_type": "markdown",
      "metadata": {
        "id": "view-in-github",
        "colab_type": "text"
      },
      "source": [
        "<a href=\"https://colab.research.google.com/github/jpmcmoreno/Construccion_Recursiva_de_Polinomios/blob/main/Parcial_Computacion_Cientifica.ipynb\" target=\"_parent\"><img src=\"https://colab.research.google.com/assets/colab-badge.svg\" alt=\"Open In Colab\"/></a>"
      ]
    },
    {
      "cell_type": "code",
      "metadata": {
        "id": "Nz7bTxLk6KCY"
      },
      "source": [
        "import matplotlib.pyplot as ptl\n",
        "import numpy as np\n",
        "import sympy as sp"
      ],
      "execution_count": 1,
      "outputs": []
    },
    {
      "cell_type": "code",
      "metadata": {
        "id": "_745KQ8-8ol9"
      },
      "source": [
        "x = sp.Symbol('x')\n",
        "p1 = x-2\n",
        "p2 = x**2+x"
      ],
      "execution_count": 2,
      "outputs": []
    },
    {
      "cell_type": "code",
      "metadata": {
        "id": "1rJhQKaB9bJv"
      },
      "source": [
        "def algoritmo_polinomios(n):\n",
        "  polinomios = [1,x]\n",
        "\n",
        "  for i in range(0, n):\n",
        "    pn = polinomios[i-1]*(x/2) - x*polinomios[i-2]*(x/4)\n",
        "    polinomios.append(pn.expand())\n",
        "\n",
        "  return polinomios"
      ],
      "execution_count": 26,
      "outputs": []
    },
    {
      "cell_type": "code",
      "metadata": {
        "id": "3_gY-Yxx-Z_m"
      },
      "source": [
        "gen_polinomios = algoritmo_polinomios(50)"
      ],
      "execution_count": 27,
      "outputs": []
    },
    {
      "cell_type": "code",
      "metadata": {
        "colab": {
          "base_uri": "https://localhost:8080/",
          "height": 53
        },
        "id": "SHCejx_Y-vq1",
        "outputId": "a294d90b-fafd-4a56-b3d8-4604bf27af19"
      },
      "source": [
        "gen_polinomios[50]"
      ],
      "execution_count": 28,
      "outputs": [
        {
          "output_type": "execute_result",
          "data": {
            "text/latex": "$\\displaystyle \\frac{3 x^{27}}{33554432} + \\frac{x^{26}}{67108864} - \\frac{1287 x^{25}}{33554432} - \\frac{221 x^{24}}{16777216} + \\frac{1001 x^{23}}{4194304} - \\frac{429 x^{22}}{2097152} - \\frac{105 x^{21}}{2097152} - \\frac{91 x^{20}}{131072} + \\frac{89 x^{18}}{262144}$",
            "text/plain": [
              "3*x**27/33554432 + x**26/67108864 - 1287*x**25/33554432 - 221*x**24/16777216 + 1001*x**23/4194304 - 429*x**22/2097152 - 105*x**21/2097152 - 91*x**20/131072 + 89*x**18/262144"
            ]
          },
          "metadata": {},
          "execution_count": 28
        }
      ]
    }
  ]
}