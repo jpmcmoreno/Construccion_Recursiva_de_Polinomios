{
  "nbformat": 4,
  "nbformat_minor": 0,
  "metadata": {
    "colab": {
      "name": "Parcial Computacion Cientifica.ipynb",
      "provenance": [],
      "authorship_tag": "ABX9TyM7kqeJzZDt58afuH/FrWEw",
      "include_colab_link": true
    },
    "kernelspec": {
      "name": "python3",
      "display_name": "Python 3"
    },
    "language_info": {
      "name": "python"
    }
  },
  "cells": [
    {
      "cell_type": "markdown",
      "metadata": {
        "id": "view-in-github",
        "colab_type": "text"
      },
      "source": [
        "<a href=\"https://colab.research.google.com/github/jpmcmoreno/Construccion_Recursiva_de_Polinomios/blob/main/Parcial_Computacion_Cientifica.ipynb\" target=\"_parent\"><img src=\"https://colab.research.google.com/assets/colab-badge.svg\" alt=\"Open In Colab\"/></a>"
      ]
    },
    {
      "cell_type": "code",
      "metadata": {
        "id": "Nz7bTxLk6KCY"
      },
      "source": [
        "import matplotlib.pyplot as plt\n",
        "import numpy as np\n",
        "import sympy as sp"
      ],
      "execution_count": 35,
      "outputs": []
    },
    {
      "cell_type": "code",
      "metadata": {
        "id": "_745KQ8-8ol9"
      },
      "source": [
        "x = sp.Symbol('x')\n",
        "p1 = x-2\n",
        "p2 = x**2+x"
      ],
      "execution_count": 2,
      "outputs": []
    },
    {
      "cell_type": "code",
      "metadata": {
        "id": "1rJhQKaB9bJv"
      },
      "source": [
        "def algoritmo_polinomios(n):\n",
        "  polinomios = [1,x]\n",
        "\n",
        "  for i in range(0, n):\n",
        "    pn = polinomios[i-1]*(x/2) - x*polinomios[i-2]*(x/4)\n",
        "    polinomios.append(pn.expand())\n",
        "\n",
        "  return polinomios"
      ],
      "execution_count": 26,
      "outputs": []
    },
    {
      "cell_type": "code",
      "metadata": {
        "id": "3_gY-Yxx-Z_m"
      },
      "source": [
        "gen_polinomios = algoritmo_polinomios(50)"
      ],
      "execution_count": 27,
      "outputs": []
    },
    {
      "cell_type": "code",
      "metadata": {
        "colab": {
          "base_uri": "https://localhost:8080/",
          "height": 53
        },
        "id": "SHCejx_Y-vq1",
        "outputId": "d7789c3b-f8c9-46e5-c1d7-ecf17c16ad3a"
      },
      "source": [
        "gen_polinomios[50]"
      ],
      "execution_count": 32,
      "outputs": [
        {
          "output_type": "execute_result",
          "data": {
            "text/latex": "$\\displaystyle \\frac{3 x^{27}}{33554432} + \\frac{x^{26}}{67108864} - \\frac{1287 x^{25}}{33554432} - \\frac{221 x^{24}}{16777216} + \\frac{1001 x^{23}}{4194304} - \\frac{429 x^{22}}{2097152} - \\frac{105 x^{21}}{2097152} - \\frac{91 x^{20}}{131072} + \\frac{89 x^{18}}{262144}$",
            "text/plain": [
              "3*x**27/33554432 + x**26/67108864 - 1287*x**25/33554432 - 221*x**24/16777216 + 1001*x**23/4194304 - 429*x**22/2097152 - 105*x**21/2097152 - 91*x**20/131072 + 89*x**18/262144"
            ]
          },
          "metadata": {},
          "execution_count": 32
        }
      ]
    },
    {
      "cell_type": "code",
      "metadata": {
        "colab": {
          "base_uri": "https://localhost:8080/",
          "height": 275
        },
        "id": "nx5zWvaLA03G",
        "outputId": "2ab3a7d7-6b49-4482-ee29-afb04dd539c7"
      },
      "source": [
        "xs = np.linspace(0, 100, num=1000)\n",
        "for i in range(1,5):\n",
        "  lambda_tn = sp.lambdify(x, gen_polinomios[i], 'numpy')\n",
        "  ys = lambda_tn(xs)\n",
        "  \n",
        "  plt.plot(xs, ys)"
      ],
      "execution_count": 40,
      "outputs": [
        {
          "output_type": "display_data",
          "data": {
            "image/png": "[encoded data removed]",
            "text/plain": [
              "<Figure size 432x288 with 1 Axes>"
            ]
          },
          "metadata": {
            "needs_background": "light"
          }
        }
      ]
    },
    {
      "cell_type": "code",
      "metadata": {
        "id": "71nKnEcRCT7I"
      },
      "source": [
        "funcion1 = gen_polinomios[1]\n",
        "funcion2 = gen_polinomios[2]\n",
        "funcion3 = gen_polinomios[3]\n",
        "funcion4 = gen_polinomios[4]\n",
        "funcion5 = gen_polinomios[5]"
      ],
      "execution_count": 41,
      "outputs": []
    },
    {
      "cell_type": "code",
      "metadata": {
        "colab": {
          "base_uri": "https://localhost:8080/",
          "height": 36
        },
        "id": "k6Fr7gmkCvJD",
        "outputId": "4608accc-236b-4584-b5d3-652fdbf88f78"
      },
      "source": [
        "funcion1.diff(x)"
      ],
      "execution_count": 46,
      "outputs": [
        {
          "output_type": "execute_result",
          "data": {
            "text/latex": "$\\displaystyle 1$",
            "text/plain": [
              "1"
            ]
          },
          "metadata": {},
          "execution_count": 46
        }
      ]
    },
    {
      "cell_type": "code",
      "metadata": {
        "colab": {
          "base_uri": "https://localhost:8080/",
          "height": 47
        },
        "id": "iMDNks92DCDt",
        "outputId": "7a359e05-5352-40cc-c6ea-94cff105cbbf"
      },
      "source": [
        "funcion2.diff(x)"
      ],
      "execution_count": 45,
      "outputs": [
        {
          "output_type": "execute_result",
          "data": {
            "text/latex": "$\\displaystyle \\frac{x}{2}$",
            "text/plain": [
              "x/2"
            ]
          },
          "metadata": {},
          "execution_count": 45
        }
      ]
    },
    {
      "cell_type": "code",
      "metadata": {
        "colab": {
          "base_uri": "https://localhost:8080/",
          "height": 53
        },
        "id": "FGd5F4oIDFpu",
        "outputId": "39aa459f-dc47-404a-96fe-5850d3a8ba61"
      },
      "source": [
        "funcion3.diff(x)"
      ],
      "execution_count": 47,
      "outputs": [
        {
          "output_type": "execute_result",
          "data": {
            "text/latex": "$\\displaystyle \\frac{1}{2} - \\frac{x^{3}}{4}$",
            "text/plain": [
              "1/2 - x**3/4"
            ]
          },
          "metadata": {},
          "execution_count": 47
        }
      ]
    },
    {
      "cell_type": "code",
      "metadata": {
        "colab": {
          "base_uri": "https://localhost:8080/",
          "height": 47
        },
        "id": "6GXlNDeSDJNS",
        "outputId": "daa516f6-eddd-4b97-dad9-564ab652d279"
      },
      "source": [
        "funcion4.diff(x)"
      ],
      "execution_count": 48,
      "outputs": [
        {
          "output_type": "execute_result",
          "data": {
            "text/latex": "$\\displaystyle \\frac{x}{2}$",
            "text/plain": [
              "x/2"
            ]
          },
          "metadata": {},
          "execution_count": 48
        }
      ]
    },
    {
      "cell_type": "code",
      "metadata": {
        "colab": {
          "base_uri": "https://localhost:8080/",
          "height": 53
        },
        "id": "mcKxiPASDJa0",
        "outputId": "ecd46060-1c4a-448c-f575-f38bfc76ad8e"
      },
      "source": [
        "funcion5.diff(x)"
      ],
      "execution_count": 49,
      "outputs": [
        {
          "output_type": "execute_result",
          "data": {
            "text/latex": "$\\displaystyle - \\frac{3 x^{2}}{8}$",
            "text/plain": [
              "-3*x**2/8"
            ]
          },
          "metadata": {},
          "execution_count": 49
        }
      ]
    }
  ]
}